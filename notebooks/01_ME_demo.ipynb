{
 "cells": [
  {
   "cell_type": "markdown",
   "id": "18c633cc",
   "metadata": {},
   "source": [
    "# 01 — Master Equation Demo & Benchmark\n",
    "\n",
    "**Aim.** Provide a reproducible notebook to (i) run the Backend‑1 master‑equation solver,\n",
    "(ii) validate against analytic references in dense/sparse limits, and (iii) benchmark runtime and accuracy\n",
    "vs. problem size and step size.\n",
    "\n",
    "**Status.** This notebook is executable **as soon as** `MasterEquationSolver.evolve(...)` is implemented.\n",
    "Until then, cells catch `NotImplementedError` and report a TODO.\n"
   ]
  },
  {
   "cell_type": "code",
   "execution_count": null,
   "id": "29a2aac0",
   "metadata": {},
   "outputs": [],
   "source": [
    "# Imports\n",
    "import numpy as np\n",
    "import time\n",
    "import json\n",
    "import math\n",
    "\n",
    "import matplotlib.pyplot as plt\n",
    "\n",
    "from unified_noise import ModelParams\n",
    "from unified_noise.solver_me import MasterEquationSolver\n",
    "from unified_noise.operators import harmonic_ops\n",
    "from unified_noise.analytics import trace, n_expectation\n",
    "\n",
    "# Matplotlib defaults (no specific colors to respect project's style constraints)\n",
    "plt.rcParams['figure.figsize'] = (6.5, 4.0)\n",
    "plt.rcParams['axes.grid'] = True\n",
    "\n",
    "def hbar():\n",
    "    return 1.054_571_817e-34\n"
   ]
  },
  {
   "cell_type": "markdown",
   "id": "85c7eb12",
   "metadata": {},
   "source": [
    "## Analytic Reference (Dense Gaussian Limit)\n",
    "\n",
    "For a harmonic oscillator with frequency \\(\\omega\\) weakly coupled to a thermal bath with mean occupancy \\(\\bar n\\),\n",
    "the thermal steady state satisfies\n",
    "\\[\n",
    "\\langle n \\rangle_\\mathrm{th} = \\bar n,\\quad\n",
    "\\langle x^2 \\rangle_\\mathrm{th} = \\frac{\\hbar}{2 m \\omega}(2\\bar n + 1),\\quad\n",
    "\\langle p^2 \\rangle_\\mathrm{th} = \\frac{\\hbar m \\omega}{2}(2\\bar n + 1).\n",
    "\\]\n",
    "\n",
    "We use these as accuracy targets when **jumps are disabled** (\\(\\lambda=0\\)).\n"
   ]
  },
  {
   "cell_type": "code",
   "execution_count": null,
   "id": "5866c48e",
   "metadata": {},
   "outputs": [],
   "source": [
    "def thermal_variances(m, omega, nbar):\n",
    "    x2 = hbar() * (2.0*nbar + 1.0) / (2.0*m*omega)\n",
    "    p2 = hbar() * m * omega * (2.0*nbar + 1.0) / 2.0\n",
    "    return x2, p2\n"
   ]
  },
  {
   "cell_type": "markdown",
   "id": "fe886976",
   "metadata": {},
   "source": [
    "## Parameters"
   ]
  },
  {
   "cell_type": "code",
   "execution_count": null,
   "id": "38ad7350",
   "metadata": {},
   "outputs": [],
   "source": [
    "# Physical parameters (adjust as needed)\n",
    "m = 6.64e-26            # 40 amu [kg]\n",
    "omega = 2*np.pi*2e6     # 2 MHz [rad/s]\n",
    "gamma = 2*np.pi*5e3     # 5 kHz damping [1/s]\n",
    "\n",
    "# Bath & jump parameters\n",
    "nbar_bath = 0.05        # effective thermal occupancy for dense-limit check\n",
    "kBT_eff = 4.1e-21       # ~ k_B T at room temperature (placeholder mapping)\n",
    "lam = 0.0               # no jumps for dense-limit validation\n",
    "jump_law = \"gauss\"\n",
    "jump_pars = {\"sigma_p\": 1.0}\n",
    "\n",
    "# Solver/truncation\n",
    "N = 30\n",
    "t_end = 2e-4            # total evolution time [s]\n",
    "n_steps = 50\n",
    "t_grid = np.linspace(0.0, t_end, n_steps+1)\n",
    "\n",
    "params = ModelParams(\n",
    "    m=m, omega=omega, gamma=gamma,\n",
    "    kBT_eff=kBT_eff, lam=lam,\n",
    "    jump_law=jump_law, jump_pars=jump_pars,\n",
    "    nbar_bath=nbar_bath\n",
    ")\n",
    "\n",
    "# Initial state: vacuum in number basis\n",
    "rho0 = np.zeros((N, N), dtype=complex)\n",
    "rho0[0,0] = 1.0\n"
   ]
  },
  {
   "cell_type": "markdown",
   "id": "9f5c6722",
   "metadata": {},
   "source": [
    "## Build Solver (Backend‑1)\n",
    "\n",
    "This uses the matrix‑free Liouvillian in Fock space. Once `evolve` is implemented,\n",
    "the next cell performs time propagation.\n"
   ]
  },
  {
   "cell_type": "code",
   "execution_count": null,
   "id": "3f0d4a62",
   "metadata": {},
   "outputs": [],
   "source": [
    "solver = MasterEquationSolver(N=N, params=params)\n",
    "\n",
    "# cache number operator for ⟨n⟩\n",
    "n_op, *_ = harmonic_ops(N, omega)\n"
   ]
  },
  {
   "cell_type": "markdown",
   "id": "ad555d7c",
   "metadata": {},
   "source": [
    "## Dense-Limit Validation (No Jumps)\n",
    "\n",
    "We evolve \\(\\rho(t)\\) with \\(\\lambda=0\\) and compare the late-time moments to the thermal prediction.\n"
   ]
  },
  {
   "cell_type": "code",
   "execution_count": null,
   "id": "29df8ed1",
   "metadata": {},
   "outputs": [],
   "source": [
    "def run_dense_validation(solver, rho0, t_grid, n_op, params):\n",
    "    try:\n",
    "        traj = solver.evolve(rho0, t_grid)\n",
    "    except NotImplementedError as e:\n",
    "        print(\"TODO:\", str(e))\n",
    "        return None\n",
    "\n",
    "    # Extract ⟨n⟩(t)\n",
    "    n_expect = []\n",
    "    for rho in traj:\n",
    "        n_expect.append(n_expectation(rho, n_op))\n",
    "    n_expect = np.asarray(n_expect)\n",
    "\n",
    "    # Thermal targets (approximate mapping using nbar_bath)\n",
    "    x2_ref, p2_ref = thermal_variances(params.m, params.omega, params.nbar_bath)\n",
    "\n",
    "    return dict(n_of_t=n_expect, x2_ref=x2_ref, p2_ref=p2_ref, traj=traj)\n",
    "\n",
    "dense_res = run_dense_validation(solver, rho0, t_grid, n_op, params)\n",
    "\n",
    "if dense_res is not None:\n",
    "    fig, ax = plt.subplots()\n",
    "    ax.plot(t_grid[1:], dense_res['n_of_t'], label=r'$\\langle n \\rangle(t)$')\n",
    "    ax.set_xlabel(\"time [s]\")\n",
    "    ax.set_ylabel(r\"$\\langle n \\rangle$\")\n",
    "    ax.legend()\n",
    "    plt.show()\n"
   ]
  },
  {
   "cell_type": "markdown",
   "id": "e0466954",
   "metadata": {},
   "source": [
    "## Sparse-Limit Benchmark (Renewal Heating)\n",
    "\n",
    "Enable Poisson jumps (small \\(\\lambda\\)) and verify the mean heating rate:\n",
    "\\[\n",
    "\\frac{d}{dt}\\langle n \\rangle \\approx \\lambda \\langle \\Delta n \\rangle.\n",
    "\\]\n",
    "We estimate the slope of \\(\\langle n \\rangle(t)\\) and compare with the prediction.\n"
   ]
  },
  {
   "cell_type": "code",
   "execution_count": null,
   "id": "67b3baaa",
   "metadata": {},
   "outputs": [],
   "source": [
    "def set_jumps(params, lam, jump_law=\"gauss\", jump_pars=None):\n",
    "    if jump_pars is None:\n",
    "        jump_pars = {\"sigma_p\": 1.0}\n",
    "    return ModelParams(\n",
    "        m=params.m, omega=params.omega, gamma=params.gamma,\n",
    "        kBT_eff=params.kBT_eff, lam=lam,\n",
    "        jump_law=jump_law, jump_pars=jump_pars,\n",
    "        nbar_bath=params.nbar_bath\n",
    "    )\n",
    "\n",
    "def expected_dn_from_dp_sigma(sigma_p, m, omega):\n",
    "    # For small kicks, Δn ≈ (Δp)^2 / (2 m ħ ω); for Gaussian Δp~N(0,σ_p^2)\n",
    "    # E[(Δp)^2] = σ_p^2 ⇒ E[Δn] ≈ σ_p^2 / (2 m ħ ω)\n",
    "    return sigma_p**2 / (2.0 * m * hbar() * omega)\n",
    "\n",
    "def estimate_slope(t, y):\n",
    "    # simple linear fit slope dy/dt\n",
    "    A = np.vstack([t, np.ones_like(t)]).T\n",
    "    s, _ = np.linalg.lstsq(A, y, rcond=None)[0]\n",
    "    return s\n",
    "\n",
    "# Configure sparse jumps\n",
    "lam_sparse = 0.5   # Hz\n",
    "sigma_p = 1.5\n",
    "params_sparse = set_jumps(params, lam=lam_sparse, jump_pars={\"sigma_p\": sigma_p})\n",
    "\n",
    "solver_sparse = MasterEquationSolver(N=N, params=params_sparse)\n",
    "\n",
    "try:\n",
    "    traj_sparse = solver_sparse.evolve(rho0, t_grid)\n",
    "    n_t = np.array([n_expectation(rho, n_op) for rho in traj_sparse])\n",
    "    slope = estimate_slope(t_grid[1:], n_t)\n",
    "    pred  = lam_sparse * expected_dn_from_dp_sigma(sigma_p, m, omega)\n",
    "    print(\"Estimated d<n>/dt:\", slope)\n",
    "    print(\"Predicted  λ<E[Δn]>:\", pred)\n",
    "    fig, ax = plt.subplots()\n",
    "    ax.plot(t_grid[1:], n_t, label=r'$\\langle n \\rangle(t)$')\n",
    "    ax.set_xlabel(\"time [s]\"); ax.set_ylabel(r\"$\\langle n \\rangle$\")\n",
    "    ax.legend(); plt.show()\n",
    "except NotImplementedError as e:\n",
    "    print(\"TODO:\", str(e))\n"
   ]
  },
  {
   "cell_type": "markdown",
   "id": "e59aced3",
   "metadata": {},
   "source": [
    "## Runtime & Scaling\n",
    "\n",
    "We measure wall-clock time for a single step vs. truncation size \\(N\\),\n",
    "and (once implemented) vs. different time-step counts. This helps set default\n",
    "parameters for production runs.\n"
   ]
  },
  {
   "cell_type": "code",
   "execution_count": null,
   "id": "aa7310f1",
   "metadata": {},
   "outputs": [],
   "source": [
    "def benchmark_runtime(N_list, t_grid, params, repeats=3):\n",
    "    timings = []\n",
    "    for N in N_list:\n",
    "        solver = MasterEquationSolver(N=N, params=params)\n",
    "        start = time.perf_counter()\n",
    "        try:\n",
    "            # run only first step to assess expm_multiply cost\n",
    "            solver.evolve(np.eye(N, dtype=complex)/N, t_grid[:2])\n",
    "        except NotImplementedError:\n",
    "            # If not implemented yet, measure only construction overhead\n",
    "            pass\n",
    "        timings.append((N, (time.perf_counter() - start)))\n",
    "    return np.array(timings)\n",
    "\n",
    "N_list = [10, 20, 30, 40]\n",
    "timings = benchmark_runtime(N_list, np.linspace(0, 1e-6, 2), params)\n",
    "\n",
    "fig, ax = plt.subplots()\n",
    "ax.plot(timings[:,0], timings[:,1], marker='o')\n",
    "ax.set_xlabel(\"Fock truncation N\")\n",
    "ax.set_ylabel(\"Time per call [s] (construction/step)\")\n",
    "plt.show()\n"
   ]
  },
  {
   "cell_type": "markdown",
   "id": "2c3bdb2c",
   "metadata": {},
   "source": [
    "## Accuracy Summary (JSON)\n",
    "\n",
    "We collect key metrics into a JSON blob for CI artifacts (optional).\n"
   ]
  },
  {
   "cell_type": "code",
   "execution_count": null,
   "id": "74c8afdc",
   "metadata": {},
   "outputs": [],
   "source": [
    "summary = {\n",
    "    \"N\": int(N),\n",
    "    \"omega\": float(omega),\n",
    "    \"gamma\": float(gamma),\n",
    "    \"lam\": float(lam),\n",
    "    \"nbar_bath\": float(nbar_bath),\n",
    "    \"status\": \"pending_implementation\"\n",
    "}\n",
    "\n",
    "print(json.dumps(summary, indent=2))\n"
   ]
  }
 ],
 "metadata": {},
 "nbformat": 4,
 "nbformat_minor": 5
}
