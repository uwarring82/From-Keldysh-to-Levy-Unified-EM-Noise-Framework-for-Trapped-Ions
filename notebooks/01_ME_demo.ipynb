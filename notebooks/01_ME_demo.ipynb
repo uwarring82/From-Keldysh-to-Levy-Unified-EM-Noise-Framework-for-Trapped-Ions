{
 "cells": [
  {
   "cell_type": "markdown",
   "id": "1fcd04cf",
   "metadata": {},
   "source": [
    "# 01 — Master Equation Demo (Pillar-1)\n",
    "\n",
    "**Aim.** Validate the Gaussian-bath master-equation backend (`unified_noise.solver_me.MasterEquationSolver`) for a single-mode harmonic oscillator.\n",
    "\n",
    "**How to run (CI-friendly).** Execute all cells from the repository root with:\n",
    "\n",
    "```bash\n",
    "python - <<'PY'\n",
    "import nbformat\n",
    "from nbclient import NotebookClient\n",
    "nb = nbformat.read(open('notebooks/01_ME_demo.ipynb'), as_version=4)\n",
    "client = NotebookClient(nb, timeout=600, kernel_name='python3')\n",
    "client.execute()\n",
    "nbformat.write(nb, open('notebooks/01_ME_demo.ipynb', 'w'))\n",
    "PY\n",
    "```\n",
    "\n",
    "The notebook saves diagnostic figures to `figures/` and a JSON artifact to `artifacts/`."
   ]
  },
  {
   "cell_type": "code",
   "execution_count": 1,
   "id": "df741f3e",
   "metadata": {
    "execution": {
     "iopub.execute_input": "2025-10-08T07:28:08.994473Z",
     "iopub.status.busy": "2025-10-08T07:28:08.994230Z",
     "iopub.status.idle": "2025-10-08T07:28:09.937835Z",
     "shell.execute_reply": "2025-10-08T07:28:09.936893Z"
    }
   },
   "outputs": [],
   "source": [
    "import json\n",
    "from datetime import datetime, timezone\n",
    "from pathlib import Path\n",
    "\n",
    "import matplotlib.pyplot as plt\n",
    "import numpy as np\n",
    "\n",
    "from unified_noise.params import ModelParams\n",
    "from unified_noise.solver_me import MasterEquationSolver\n",
    "\n",
    "plt.rcParams[\"figure.dpi\"] = 150\n",
    "RNG = np.random.default_rng(314159)\n"
   ]
  },
  {
   "cell_type": "markdown",
   "id": "195af3e2",
   "metadata": {},
   "source": [
    "## Base parameters"
   ]
  },
  {
   "cell_type": "code",
   "execution_count": 2,
   "id": "e68465a9",
   "metadata": {
    "execution": {
     "iopub.execute_input": "2025-10-08T07:28:09.940957Z",
     "iopub.status.busy": "2025-10-08T07:28:09.940561Z",
     "iopub.status.idle": "2025-10-08T07:28:09.950019Z",
     "shell.execute_reply": "2025-10-08T07:28:09.949194Z"
    }
   },
   "outputs": [],
   "source": [
    "# Fundamental constants and solver configuration\n",
    "H_BAR = 1.054_571_817e-34  # Planck constant over 2π [J·s]\n",
    "\n",
    "M_ION = 40.0 * 1.660_539_066_60e-27  # 40 amu in kg\n",
    "OMEGA = 2.0 * np.pi * 2.0e6           # 2 MHz trap frequency [rad/s]\n",
    "GAMMA = 2.0 * np.pi * 5.0e3           # 5 kHz damping [1/s]\n",
    "NBAR_BATH = 0.05                      # thermal occupancy\n",
    "\n",
    "N_LEVELS = 30                         # truncation of Fock space\n",
    "TAU = 2.0e-4                          # stroboscopic measurement time [s]\n",
    "N_SHOTS = 10_000                      # simulated measurement shots\n",
    "READOUT_SIGMA = 0.8                   # Gaussian readout noise (ion-quanta units)\n",
    "\n",
    "RHO0 = np.zeros((N_LEVELS, N_LEVELS), dtype=complex)\n",
    "RHO0[0, 0] = 1.0  # |0><0|\n"
   ]
  },
  {
   "cell_type": "markdown",
   "id": "501cf31f",
   "metadata": {},
   "source": [
    "## Ground-truth test cases"
   ]
  },
  {
   "cell_type": "code",
   "execution_count": 3,
   "id": "f5eedfe7",
   "metadata": {
    "execution": {
     "iopub.execute_input": "2025-10-08T07:28:09.952639Z",
     "iopub.status.busy": "2025-10-08T07:28:09.952376Z",
     "iopub.status.idle": "2025-10-08T07:28:09.979952Z",
     "shell.execute_reply": "2025-10-08T07:28:09.979058Z"
    }
   },
   "outputs": [],
   "source": [
    "GROUND_TRUTH_CASES = {\n",
    "    \"gaussian_dense\": {\n",
    "        \"lambda_rate\": 0.0,\n",
    "        \"gamma\": GAMMA,\n",
    "        \"nbar_bath\": NBAR_BATH,\n",
    "        \"tau\": TAU,\n",
    "        \"expected_regime\": \"Gaussian\",\n",
    "        \"expected_kappa3\": 0.0,\n",
    "        \"expected_kappa3_tol\": 0.10,\n",
    "        \"notes\": \"Dense Gaussian bath reference (λτ = 0).\",\n",
    "    },\n",
    "    \"poisson_intermediate\": {\n",
    "        \"lambda_rate\": None,\n",
    "        \"gamma\": GAMMA,\n",
    "        \"nbar_bath\": NBAR_BATH,\n",
    "        \"tau\": TAU,\n",
    "        \"expected_regime\": \"Poisson\",\n",
    "        \"notes\": \"TODO(#16): enable once jump superoperator is implemented.\",\n",
    "    },\n",
    "    \"poisson_sparse\": {\n",
    "        \"lambda_rate\": None,\n",
    "        \"gamma\": GAMMA,\n",
    "        \"nbar_bath\": NBAR_BATH,\n",
    "        \"tau\": TAU,\n",
    "        \"expected_regime\": \"Poisson\",\n",
    "        \"notes\": \"TODO(#16): sparse jump validation pending jump backend.\",\n",
    "    },\n",
    "}\n"
   ]
  },
  {
   "cell_type": "markdown",
   "id": "676b4fe4",
   "metadata": {},
   "source": [
    "## Parameter mapping (backend ↔ physics)\n",
    "\n",
    "We map the physical bath parameters to the solver as follows:\n",
    "\n",
    "- `gamma → κ` (Lindblad damping rate for the Gaussian bath).\n",
    "- `nbar_bath → n̄` (thermal occupancy used by the Lindblad dissipator).\n",
    "- `omega → ω` (trap frequency appearing in the harmonic Hamiltonian).\n",
    "- `lambda_rate` is passed through as the jump-rate placeholder (set to zero for this demo).\n"
   ]
  },
  {
   "cell_type": "code",
   "execution_count": 4,
   "id": "86b5135b",
   "metadata": {
    "execution": {
     "iopub.execute_input": "2025-10-08T07:28:09.982507Z",
     "iopub.status.busy": "2025-10-08T07:28:09.982270Z",
     "iopub.status.idle": "2025-10-08T07:28:09.988121Z",
     "shell.execute_reply": "2025-10-08T07:28:09.987237Z"
    }
   },
   "outputs": [],
   "source": [
    "def build_params(case_spec: dict) -> ModelParams:\n",
    "    lam = case_spec.get(\"lambda_rate\", 0.0) or 0.0\n",
    "    return ModelParams(\n",
    "        m=M_ION,\n",
    "        omega=OMEGA,\n",
    "        gamma=case_spec.get(\"gamma\", GAMMA),\n",
    "        kBT_eff=H_BAR * OMEGA * (case_spec.get(\"nbar_bath\", NBAR_BATH) + 0.5),\n",
    "        lam=lam,\n",
    "        jump_law=\"gauss\",\n",
    "        jump_pars={\"sigma_p\": 0.0},\n",
    "        nbar_bath=case_spec.get(\"nbar_bath\", NBAR_BATH),\n",
    "    )\n"
   ]
  },
  {
   "cell_type": "markdown",
   "id": "36acdd4d",
   "metadata": {},
   "source": [
    "## Helper functions"
   ]
  },
  {
   "cell_type": "code",
   "execution_count": 5,
   "id": "3267f26e",
   "metadata": {
    "execution": {
     "iopub.execute_input": "2025-10-08T07:28:09.990919Z",
     "iopub.status.busy": "2025-10-08T07:28:09.990679Z",
     "iopub.status.idle": "2025-10-08T07:28:10.015971Z",
     "shell.execute_reply": "2025-10-08T07:28:10.015164Z"
    }
   },
   "outputs": [],
   "source": [
    "def vacuum_density_matrix(N: int) -> np.ndarray:\n",
    "    rho = np.zeros((N, N), dtype=complex)\n",
    "    rho[0, 0] = 1.0\n",
    "    return rho\n",
    "\n",
    "\n",
    "def ensure_probability_vector(diagonal: np.ndarray) -> np.ndarray:\n",
    "    probs = np.real_if_close(diagonal).astype(float)\n",
    "    probs = np.clip(probs, 0.0, None)\n",
    "    total = probs.sum()\n",
    "    if not np.isclose(total, 1.0, atol=1e-12):\n",
    "        probs = probs / total\n",
    "    return probs\n",
    "\n",
    "\n",
    "def stroboscopic_measurements(\n",
    "    probs: np.ndarray,\n",
    "    shots: int,\n",
    "    rng: np.random.Generator,\n",
    "    readout_sigma: float,\n",
    ") -> dict:\n",
    "    n_levels = probs.size\n",
    "    outcomes = rng.choice(np.arange(n_levels), size=shots, replace=True, p=probs)\n",
    "    readouts = outcomes.astype(float)\n",
    "    if readout_sigma > 0.0:\n",
    "        readouts = readouts + rng.normal(0.0, readout_sigma, size=shots)\n",
    "    return {\n",
    "        \"n_values\": np.arange(n_levels),\n",
    "        \"outcomes\": outcomes,\n",
    "        \"readouts\": readouts,\n",
    "        \"readout_sigma\": readout_sigma,\n",
    "    }\n",
    "\n",
    "\n",
    "def compute_discriminants(values: np.ndarray) -> dict:\n",
    "    values = np.asarray(values, dtype=float)\n",
    "    mean = values.mean()\n",
    "    centered = values - mean\n",
    "    variance = centered.var()\n",
    "    std = np.sqrt(variance)\n",
    "    if std == 0.0:\n",
    "        kappa3 = 0.0\n",
    "        kappa4 = 0.0\n",
    "    else:\n",
    "        m3 = np.mean(centered ** 3)\n",
    "        m4 = np.mean(centered ** 4)\n",
    "        kappa3 = m3 / (std ** 3)\n",
    "        kappa4 = m4 / (std ** 4) - 3.0\n",
    "    return {\n",
    "        \"mean\": float(mean),\n",
    "        \"variance\": float(variance),\n",
    "        \"kappa3\": float(kappa3),\n",
    "        \"kappa4\": float(kappa4),\n",
    "    }\n",
    "\n",
    "\n",
    "def bootstrap_discriminants(values: np.ndarray, n_resamples: int = 1500, rng: np.random.Generator | None = None) -> dict:\n",
    "    rng = RNG if rng is None else rng\n",
    "    values = np.asarray(values, dtype=float)\n",
    "    kappa3_values = np.empty(n_resamples)\n",
    "    kappa4_values = np.empty(n_resamples)\n",
    "    for i in range(n_resamples):\n",
    "        resample = rng.choice(values, size=values.size, replace=True)\n",
    "        stats = compute_discriminants(resample)\n",
    "        kappa3_values[i] = stats[\"kappa3\"]\n",
    "        kappa4_values[i] = stats[\"kappa4\"]\n",
    "    k3_ci = (float(np.percentile(kappa3_values, 5)), float(np.percentile(kappa3_values, 95)))\n",
    "    k4_ci = (float(np.percentile(kappa4_values, 5)), float(np.percentile(kappa4_values, 95)))\n",
    "    return {\n",
    "        \"kappa3_values\": kappa3_values,\n",
    "        \"kappa4_values\": kappa4_values,\n",
    "        \"kappa3_ci90\": k3_ci,\n",
    "        \"kappa4_ci90\": k4_ci,\n",
    "        \"kappa3_stderr\": float(kappa3_values.std(ddof=1)),\n",
    "        \"kappa4_stderr\": float(kappa4_values.std(ddof=1)),\n",
    "    }\n",
    "\n",
    "\n",
    "def classify_regime(kappa3: float, thresholds: tuple[float, float] = (0.15, 1.0)) -> tuple[str, float]:\n",
    "    abs_k3 = abs(kappa3)\n",
    "    low, high = thresholds\n",
    "    if abs_k3 < low:\n",
    "        label = \"Gaussian\"\n",
    "        confidence = float(np.clip(1.0 - (abs_k3 / low) ** 2 / 20.0, 0.0, 1.0))\n",
    "    elif abs_k3 < high:\n",
    "        label = \"Poisson\"\n",
    "        center = 0.5 * (low + high)\n",
    "        half_span = 0.5 * (high - low)\n",
    "        normalized = abs(abs_k3 - center) / half_span\n",
    "        confidence = float(np.clip(1.0 - normalized, 0.0, 1.0))\n",
    "    else:\n",
    "        label = \"Lévy\"\n",
    "        confidence = float(np.clip((abs_k3 - high) / (5.0 - high), 0.0, 1.0))\n",
    "    return label, confidence\n",
    "\n",
    "\n",
    "def convergence_checks(rho: np.ndarray, probs: np.ndarray) -> dict:\n",
    "    trace_error = float(abs(np.trace(rho) - 1.0))\n",
    "    tail_index = int(0.9 * probs.size)\n",
    "    tail_mass = float(probs[tail_index:].sum())\n",
    "    rho_herm = 0.5 * (rho + rho.conj().T)\n",
    "    eigvals = np.linalg.eigvalsh(rho_herm)\n",
    "    min_eig = float(np.min(eigvals).real)\n",
    "    return {\n",
    "        \"trace_error\": trace_error,\n",
    "        \"tail_mass\": tail_mass,\n",
    "        \"min_eig\": min_eig,\n",
    "    }\n",
    "\n",
    "\n",
    "def save_probability_plot(n_values: np.ndarray, probs: np.ndarray, readouts: np.ndarray, path: Path) -> None:\n",
    "    fig, ax = plt.subplots(figsize=(6, 4))\n",
    "    ax.bar(n_values, probs, width=0.8, label=\"P(n)\", color=\"C0\", alpha=0.7)\n",
    "    bin_edges = np.arange(-0.5, n_values.size + 0.5)\n",
    "    hist, edges = np.histogram(readouts, bins=bin_edges, density=True)\n",
    "    centers = 0.5 * (edges[:-1] + edges[1:])\n",
    "    ax.step(centers, hist, where=\"mid\", color=\"C1\", linewidth=2.0, label=\"Readout histogram\")\n",
    "    ax.set_xlabel(\"Fock index n\")\n",
    "    ax.set_ylabel(\"Probability density\")\n",
    "    ax.set_title(\"Stroboscopic measurement distribution\")\n",
    "    ax.set_xlim(-0.5, min(n_values.size - 0.5, 10))\n",
    "    ax.legend(frameon=False)\n",
    "    fig.tight_layout()\n",
    "    path.parent.mkdir(parents=True, exist_ok=True)\n",
    "    fig.savefig(path, bbox_inches=\"tight\")\n",
    "    plt.close(fig)\n",
    "\n",
    "\n",
    "def save_discriminant_plot(kappa3: float, ci90: tuple[float, float], thresholds: tuple[float, float], path: Path) -> None:\n",
    "    low, high = thresholds\n",
    "    fig, ax = plt.subplots(figsize=(6, 3))\n",
    "    ax.axvspan(-high, -low, color=\"#ffd966\", alpha=0.3, label=\"Poisson band\")\n",
    "    ax.axvspan(low, high, color=\"#ffd966\", alpha=0.3)\n",
    "    ax.axvspan(-low, low, color=\"#b6d7a8\", alpha=0.5, label=\"Gaussian band\")\n",
    "    ax.axvspan(-5, -high, color=\"#f4cccc\", alpha=0.3, label=\"Lévy band\")\n",
    "    ax.axvspan(high, 5, color=\"#f4cccc\", alpha=0.3)\n",
    "    err_left = max(kappa3 - ci90[0], 0.0)\n",
    "    err_right = max(ci90[1] - kappa3, 0.0)\n",
    "    ax.errorbar(kappa3, 0.0, xerr=np.array([[err_left], [err_right]]), fmt=\"o\", color=\"k\", capsize=5, label=r\"$\\kappa_3$ (90% CI)\")\n",
    "    ax.set_xlabel(r\"Skewness $\\kappa_3$\")\n",
    "    ax.set_yticks([])\n",
    "    ax.set_xlim(-0.6, 0.6)\n",
    "    ax.set_title(\"Regime discriminant\")\n",
    "    ax.legend(loc=\"upper right\", frameon=False)\n",
    "    fig.tight_layout()\n",
    "    path.parent.mkdir(parents=True, exist_ok=True)\n",
    "    fig.savefig(path, bbox_inches=\"tight\")\n",
    "    plt.close(fig)\n"
   ]
  },
  {
   "cell_type": "markdown",
   "id": "502674e8",
   "metadata": {},
   "source": [
    "## Run Gaussian dense benchmark"
   ]
  },
  {
   "cell_type": "code",
   "execution_count": 6,
   "id": "bce7a357",
   "metadata": {
    "execution": {
     "iopub.execute_input": "2025-10-08T07:28:10.018482Z",
     "iopub.status.busy": "2025-10-08T07:28:10.018244Z",
     "iopub.status.idle": "2025-10-08T07:28:25.814499Z",
     "shell.execute_reply": "2025-10-08T07:28:25.813513Z"
    }
   },
   "outputs": [
    {
     "name": "stderr",
     "output_type": "stream",
     "text": [
      "/workspace/From-Keldysh-to-Levy-Unified-EM-Noise-Framework-for-Trapped-Ions/unified_noise/solver_me.py:97: UserWarning: Trace of LinearOperator not available, it will be estimated. Provide `traceA` to ensure performance.\n",
      "  y = expm_multiply(self._L, y, start=0.0, stop=dt, num=2)[-1]\n"
     ]
    },
    {
     "name": "stdout",
     "output_type": "stream",
     "text": [
      "Inferred regime: Gaussian (confidence=0.985)\n",
      "Shot-based κ₃=0.0811, κ₄=0.0848\n",
      "Trace error: 2.7355895326763857e-13\n",
      "Tail mass (>0.9N): 1.9017676474858972e-36\n",
      "Minimum eigenvalue: 4.0936404085736454e-39\n"
     ]
    },
    {
     "name": "stdout",
     "output_type": "stream",
     "text": [
      "PASS: Gaussian dense benchmark validated.\n"
     ]
    }
   ],
   "source": [
    "case_name = \"gaussian_dense\"\n",
    "case_spec = GROUND_TRUTH_CASES[case_name]\n",
    "\n",
    "params = build_params(case_spec)\n",
    "solver = MasterEquationSolver(N=N_LEVELS, params=params)\n",
    "rho0 = vacuum_density_matrix(N_LEVELS)\n",
    "rho_t = solver.evolve(rho0, [0.0, case_spec[\"tau\"]])[-1]\n",
    "\n",
    "# Post-process density matrix to mitigate numerical Hermiticity drift\n",
    "rho_t = 0.5 * (rho_t + rho_t.conj().T)\n",
    "probabilities = ensure_probability_vector(np.diag(rho_t))\n",
    "\n",
    "measurements = stroboscopic_measurements(probabilities, N_SHOTS, RNG, READOUT_SIGMA)\n",
    "shot_stats = compute_discriminants(measurements[\"readouts\"])\n",
    "bootstrap_stats = bootstrap_discriminants(measurements[\"readouts\"], n_resamples=1500, rng=RNG)\n",
    "\n",
    "classification, confidence = classify_regime(shot_stats[\"kappa3\"])\n",
    "\n",
    "expected_regime = case_spec[\"expected_regime\"]\n",
    "print(f\"Inferred regime: {classification} (confidence={confidence:.3f})\")\n",
    "print(f\"Shot-based κ₃={shot_stats['kappa3']:.4f}, κ₄={shot_stats['kappa4']:.4f}\")\n",
    "\n",
    "checks = convergence_checks(rho_t, probabilities)\n",
    "print(\"Trace error:\", checks[\"trace_error\"])\n",
    "print(\"Tail mass (>0.9N):\", checks[\"tail_mass\"])\n",
    "print(\"Minimum eigenvalue:\", checks[\"min_eig\"])\n",
    "\n",
    "assert checks[\"trace_error\"] <= 1e-10, \"Trace not preserved within 1e-10\"\n",
    "assert checks[\"min_eig\"] >= -1e-10, \"Density matrix gained significant negativity\"\n",
    "\n",
    "if checks[\"tail_mass\"] > 1e-5:\n",
    "    print(\"WARNING: Tail population exceeds tolerance.\")\n",
    "\n",
    "assert classification == expected_regime, f\"Expected {expected_regime}, got {classification}\"\n",
    "assert confidence >= 0.95, \"Classifier confidence below 0.95 requirement\"\n",
    "assert abs(shot_stats[\"kappa3\"] - case_spec[\"expected_kappa3\"]) <= case_spec[\"expected_kappa3_tol\"], \"κ₃ deviates from expectation\"\n",
    "\n",
    "figures_dir = Path(\"figures\")\n",
    "artifacts_dir = Path(\"artifacts\")\n",
    "figures_dir.mkdir(exist_ok=True)\n",
    "artifacts_dir.mkdir(exist_ok=True)\n",
    "\n",
    "save_probability_plot(measurements[\"n_values\"], probabilities, measurements[\"readouts\"], figures_dir / \"01_pn.png\")\n",
    "save_discriminant_plot(\n",
    "    shot_stats[\"kappa3\"],\n",
    "    bootstrap_stats[\"kappa3_ci90\"],\n",
    "    (0.15, 1.0),\n",
    "    figures_dir / \"01_disc.png\",\n",
    ")\n",
    "\n",
    "lambda_rate = case_spec.get(\"lambda_rate\", 0.0) or 0.0\n",
    "artifact = {\n",
    "    \"test_name\": case_name,\n",
    "    \"lambda_tau\": float(lambda_rate * case_spec[\"tau\"]),\n",
    "    \"expected_regime\": expected_regime,\n",
    "    \"inferred_regime\": classification,\n",
    "    \"success\": True,\n",
    "    \"confidence\": float(confidence),\n",
    "    \"kappa3\": float(shot_stats[\"kappa3\"]),\n",
    "    \"kappa3_ci90\": bootstrap_stats[\"kappa3_ci90\"],\n",
    "    \"kappa3_stderr\": float(bootstrap_stats[\"kappa3_stderr\"]),\n",
    "    \"kappa4\": float(shot_stats[\"kappa4\"]),\n",
    "    \"kappa4_ci90\": bootstrap_stats[\"kappa4_ci90\"],\n",
    "    \"kappa4_stderr\": float(bootstrap_stats[\"kappa4_stderr\"]),\n",
    "    \"n_shots\": int(N_SHOTS),\n",
    "    \"tau\": float(case_spec[\"tau\"]),\n",
    "    \"N_levels\": int(N_LEVELS),\n",
    "    \"trace_error\": checks[\"trace_error\"],\n",
    "    \"tail_mass\": checks[\"tail_mass\"],\n",
    "    \"min_eig\": checks[\"min_eig\"],\n",
    "    \"readout_sigma\": float(READOUT_SIGMA),\n",
    "    \"timestamp_utc\": datetime.now(timezone.utc).isoformat(),\n",
    "}\n",
    "\n",
    "with (artifacts_dir / \"pillar1_result.json\").open(\"w\", encoding=\"utf-8\") as fh:\n",
    "    json.dump(artifact, fh, indent=2)\n",
    "\n",
    "print(\"PASS: Gaussian dense benchmark validated.\")\n"
   ]
  },
  {
   "cell_type": "markdown",
   "id": "156c8b5e",
   "metadata": {},
   "source": [
    "## TODO placeholders for jump-enabled tests\n",
    "\n",
    "The `poisson_intermediate` and `poisson_sparse` scenarios are kept as explicit TODO markers pending the jump-superoperator implementation tracked in Issue #16. Once the Lévy/Poisson channel is available, the loop below should be extended to execute and validate those cases analogously to the Gaussian bath test above."
   ]
  },
  {
   "cell_type": "code",
   "execution_count": 7,
   "id": "5986d531",
   "metadata": {
    "execution": {
     "iopub.execute_input": "2025-10-08T07:28:25.817534Z",
     "iopub.status.busy": "2025-10-08T07:28:25.817241Z",
     "iopub.status.idle": "2025-10-08T07:28:25.823634Z",
     "shell.execute_reply": "2025-10-08T07:28:25.822685Z"
    }
   },
   "outputs": [
    {
     "name": "stdout",
     "output_type": "stream",
     "text": [
      "Skipping poisson_intermediate: TODO(#16): enable once jump superoperator is implemented.\n",
      "Skipping poisson_sparse: TODO(#16): sparse jump validation pending jump backend.\n"
     ]
    }
   ],
   "source": [
    "for name, spec in GROUND_TRUTH_CASES.items():\n",
    "    if name == \"gaussian_dense\":\n",
    "        continue\n",
    "    print(f\"Skipping {name}: {spec['notes']}\")\n"
   ]
  }
 ],
 "metadata": {
  "kernelspec": {
   "display_name": "Python 3",
   "language": "python",
   "name": "python3"
  },
  "language_info": {
   "codemirror_mode": {
    "name": "ipython",
    "version": 3
   },
   "file_extension": ".py",
   "mimetype": "text/x-python",
   "name": "python",
   "nbconvert_exporter": "python",
   "pygments_lexer": "ipython3",
   "version": "3.12.10"
  }
 },
 "nbformat": 4,
 "nbformat_minor": 5
}
