{
 "cells": [
  {
   "cell_type": "markdown",
   "metadata": {},
   "source": [
    "# 01 — Master Equation Demo (Placeholder)\n",
    "\n",
    "This notebook will showcase Backend 1 once the time-propagation is implemented:\n",
    "- Build Liouvillian\n",
    "- Evolve \\u03c1(t) via Krylov expm_multiply\n",
    "- Plot \\u27e8n\\u27e9(t), P(n|\\u03c4), and (optionally) Wigner functions\n"
   ]
  }
 ],
 "metadata": {
  "kernelspec": {
   "display_name": "Python 3",
   "language": "python",
   "name": "python3"
  },
  "language_info": {
   "name": "python"
  }
 },
 "nbformat": 4,
 "nbformat_minor": 5
}
